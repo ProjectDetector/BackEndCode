{
  "nbformat": 4,
  "nbformat_minor": 0,
  "metadata": {
    "colab": {
      "name": "ExtractFeature.ipynb",
      "provenance": [],
      "collapsed_sections": []
    },
    "kernelspec": {
      "name": "python3",
      "display_name": "Python 3"
    },
    "language_info": {
      "name": "python"
    }
  },
  "cells": [
    {
      "cell_type": "markdown",
      "metadata": {
        "id": "ZA4QUcD0FfWK"
      },
      "source": [
        "# Get entries from DB(sheets)"
      ]
    },
    {
      "cell_type": "markdown",
      "metadata": {
        "id": "IwsPlkT7ADTj"
      },
      "source": [
        "upload the secret_files for sheets access. **FD4GS.json**,**FD4GS_cache.json** in */content*"
      ]
    },
    {
      "cell_type": "code",
      "metadata": {
        "id": "_NJUUZAhAQr5"
      },
      "source": [
        "! pip install gsheets gdown > /dev/null"
      ],
      "execution_count": null,
      "outputs": []
    },
    {
      "cell_type": "code",
      "metadata": {
        "id": "p5xRVe0rAIJR"
      },
      "source": [
        "#google sheet package\n",
        "from gsheets import Sheets\n",
        "#download image from sheet\n",
        "import gdown\n",
        "\n",
        "#Authorizing the api\n",
        "sheets = Sheets.from_files('FD4GS.json','FD4GS_cache.json')"
      ],
      "execution_count": null,
      "outputs": []
    },
    {
      "cell_type": "code",
      "metadata": {
        "id": "-1_1pZr9AOZS"
      },
      "source": [
        "#Fetching information from helper database\n",
        "vi3 = sheets.get('1dYaQqMVPEbJuBwHC-nPbu-2NPIcaqwJf8-MqiZswmU4') # Helper Database\n",
        "vi3_form1_ws = vi3.sheets[0]\n",
        "\n",
        "entries = vi3_form1_ws.values()[1:]\n",
        "for i, e in enumerate(entries):\n",
        "  gdown.download('https://drive.google.com/uc?id='+e[1].split('id=')[1], f'entrie_{i}', quiet= i!=0)"
      ],
      "execution_count": null,
      "outputs": []
    },
    {
      "cell_type": "markdown",
      "metadata": {
        "id": "8fCrwVv8FGen"
      },
      "source": [
        "# Detect Vehicles and Get Features"
      ]
    },
    {
      "cell_type": "code",
      "metadata": {
        "id": "rB5YIZ2cCkPL"
      },
      "source": [
        "! git clone https://github.com/ProjectDetector/Train-VehicleDetection-model.git\n",
        "! cd Train-VehicleDetection-model/model.weights_/ && sh to_merge.sh\n",
        "\n",
        "!pip install intel-tensorflow > /dev/null"
      ],
      "execution_count": null,
      "outputs": []
    },
    {
      "cell_type": "code",
      "metadata": {
        "id": "5NrPwTnPGZQi"
      },
      "source": [
        "mymodel = __import__('Train-VehicleDetection-model.model').model\n",
        "model = mymodel.get_model()\n",
        "mymodel.load_weights(model, 'Train-VehicleDetection-model/model.weights')"
      ],
      "execution_count": null,
      "outputs": []
    },
    {
      "cell_type": "code",
      "metadata": {
        "id": "ECVmWzFUMAea"
      },
      "source": [
        "def get_boxes(path, th=0.01, toplot=False):\n",
        "  img = mymodel.mpimg.imread(path)\n",
        "  pre_precessed = mymodel.preprocess(img)\n",
        "  batch = mymodel.np.expand_dims(pre_precessed, axis=0)\n",
        "  batch_output = model.predict(batch)\n",
        "  boxes = mymodel.model_output_to_boxes(batch_output[0], threshold=th)\n",
        "  if toplot: plot(img, boxes)\n",
        "  return boxes"
      ],
      "execution_count": null,
      "outputs": []
    },
    {
      "cell_type": "markdown",
      "metadata": {
        "id": "NDXoZdqLw2Lh"
      },
      "source": [
        "##### For testing"
      ]
    },
    {
      "cell_type": "code",
      "metadata": {
        "id": "SawfN2D6xMCu"
      },
      "source": [
        "rm -rf Train-VehicleDetection-model/"
      ],
      "execution_count": null,
      "outputs": []
    },
    {
      "cell_type": "code",
      "metadata": {
        "id": "Tip674L-w1Xq"
      },
      "source": [
        "import importlib\n",
        "importlib.reload(mymodel)"
      ],
      "execution_count": null,
      "outputs": []
    },
    {
      "cell_type": "code",
      "metadata": {
        "id": "nItS3o8xz28h"
      },
      "source": [
        "print(get_boxes('Train-VehicleDetection-model/testimg.jpg', 0.01, 1))\n",
        "#print(get_boxes(f'entrie_{input()}', 0.01, 1))"
      ],
      "execution_count": null,
      "outputs": []
    },
    {
      "cell_type": "code",
      "metadata": {
        "id": "pK3d9HjSwK7u"
      },
      "source": [
        "def draw_boxes(boxes,im, crop_dim):\n",
        "    imgcv1 = im.copy()\n",
        "    [xmin, xmax] = crop_dim[0]\n",
        "    [ymin, ymax] = crop_dim[1]\n",
        "    \n",
        "    height, width, _ = imgcv1.shape\n",
        "    for b in boxes:\n",
        "        w = xmax - xmin\n",
        "        h = ymax - ymin\n",
        "\n",
        "        left  = int ((b.x - b.w/2.) * w) + xmin\n",
        "        right = int ((b.x + b.w/2.) * w) + xmin\n",
        "        top   = int ((b.y - b.h/2.) * h) + ymin\n",
        "        bot   = int ((b.y + b.h/2.) * h) + ymin\n",
        "\n",
        "        if left  < 0:\n",
        "            left = 0\n",
        "        if right > width - 1:\n",
        "            right = width - 1\n",
        "        if top < 0:\n",
        "            top = 0\n",
        "        if bot>height - 1: \n",
        "            bot = height - 1\n",
        "        \n",
        "        thick = 5 #int((height + width // 150))\n",
        "        \n",
        "        mymodel.cv2.rectangle(imgcv1, (left, top), (right, bot), (255,0,0), thick)\n",
        "\n",
        "    return imgcv1\n",
        "\n",
        "import matplotlib.pyplot as plt\n",
        "%matplotlib inline\n",
        "\n",
        "def plot(img, boxes):\n",
        "  final = draw_boxes(boxes, img, ((500,1280),(300,650)))\n",
        "\n",
        "  plt.rcParams['figure.figsize'] = (20, 10)\n",
        "  plt.subplot(1,3,1)\n",
        "  plt.imshow(get_croped_imgs(img, boxes)[0])#img)\n",
        "  plt.axis('off')\n",
        "  plt.title(\"Original Image\")\n",
        "  plt.subplot(1,3,2)\n",
        "  plt.imshow(mymodel.normalize(mymodel.crop_and_resize(img)))\n",
        "  plt.axis('off')\n",
        "  plt.title(\"Pre Processed\")\n",
        "  plt.subplot(1,3,3)\n",
        "  plt.imshow(final)\n",
        "  plt.axis('off')\n",
        "  plt.title(\"With Boxes\")"
      ],
      "execution_count": null,
      "outputs": []
    },
    {
      "cell_type": "markdown",
      "metadata": {
        "id": "Dme5tBcx9In8"
      },
      "source": [
        "# To Detect color"
      ]
    },
    {
      "cell_type": "code",
      "metadata": {
        "id": "nnYILIri9mPl"
      },
      "source": [
        "def get_croped_imgs(img, boxes): # yet to code\n",
        "  rtn = []\n",
        "  for box in boxes:\n",
        "    x = bx - box.w/2\n",
        "    y = by - box.h/2\n",
        "    x, y, h, w = int(x), int(y), int(box.h), int(box.w)\n",
        "    print(x,y,h,w,box.x,box.y,box.h,box.w)\n",
        "    rtn.append(img[y:y+h, x:x+w])\n",
        "  return rtn"
      ],
      "execution_count": null,
      "outputs": []
    },
    {
      "cell_type": "code",
      "metadata": {
        "id": "hU0gs1sk9Pg7"
      },
      "source": [
        "# upload the colors.csv in /content\n",
        "\n",
        "from PIL import Image\n",
        "import cv2\n",
        "import numpy as np\n",
        "import pandas as pd\n",
        "import scipy\n",
        "import scipy.misc\n",
        "import scipy.cluster\n",
        "\n",
        "\n",
        "index=[\"color\",\"color_name\",\"hex\",\"R\",\"G\",\"B\"]\n",
        "csv = pd.read_csv('colors.csv', names=index, header=None)\n",
        "\n",
        "#function to calculate minimum distance from all colors and get the most matching color\n",
        "def getColorName(R,G,B):\n",
        "    minimum = 10000\n",
        "    for i in range(len(csv)):\n",
        "        d = abs(R- int(csv.loc[i,\"R\"])) + abs(G- int(csv.loc[i,\"G\"]))+ abs(B- int(csv.loc[i,\"B\"]))\n",
        "        if(d<=minimum):\n",
        "            minimum = d\n",
        "            cname = csv.loc[i,\"color_name\"]\n",
        "    return cname\n",
        "\n",
        "\n",
        "NUM_CLUSTERS = 5\n",
        "\n",
        "def getRGB(im):\n",
        "    im = cv2.resize(im, (150,150)) #im.resize((150, 150))      # optional, to reduce time\n",
        "    #ar = np.asarray(im)\n",
        "    shape = ar.shape\n",
        "    ar = ar.reshape(scipy.product(shape[:2]), shape[2]).astype(float)\n",
        "\n",
        "    #print('finding clusters')\n",
        "    codes, dist = scipy.cluster.vq.kmeans(ar, NUM_CLUSTERS)\n",
        "    #print('cluster centres:\\n', codes)\n",
        "\n",
        "    vecs, dist = scipy.cluster.vq.vq(ar, codes)         # assign codes\n",
        "    counts, bins = scipy.histogram(vecs, len(codes))    # count occurrences\n",
        "\n",
        "    index_max = scipy.argmax(counts)                    # find most frequent\n",
        "    peak = codes[index_max]\n",
        "    r,g,b = (int(c) for c in peak)\n",
        "\n",
        "    return r,g,b\n"
      ],
      "execution_count": null,
      "outputs": []
    }
  ]
}
