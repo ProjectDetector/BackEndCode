{
  "nbformat": 4,
  "nbformat_minor": 0,
  "metadata": {
    "colab": {
      "name": "ExtractFeature.ipynb",
      "provenance": [],
      "collapsed_sections": []
    },
    "kernelspec": {
      "name": "python3",
      "display_name": "Python 3"
    },
    "language_info": {
      "name": "python"
    }
  },
  "cells": [
    {
      "cell_type": "markdown",
      "metadata": {
        "id": "ZA4QUcD0FfWK"
      },
      "source": [
        "# Get entries from DB(sheets)"
      ]
    },
    {
      "cell_type": "markdown",
      "metadata": {
        "id": "IwsPlkT7ADTj"
      },
      "source": [
        "upload the secret_files for sheets access. **FD4GS.json**,**FD4GS_cache.json** in */content*"
      ]
    },
    {
      "cell_type": "code",
      "metadata": {
        "id": "_NJUUZAhAQr5"
      },
      "source": [
        "! pip install gsheets gdown > /dev/null"
      ],
      "execution_count": null,
      "outputs": []
    },
    {
      "cell_type": "code",
      "metadata": {
        "id": "p5xRVe0rAIJR"
      },
      "source": [
        "#google sheet package\n",
        "from gsheets import Sheets\n",
        "#download image from sheet\n",
        "import gdown\n",
        "\n",
        "#Authorizing the api\n",
        "sheets = Sheets.from_files('FD4GS.json','FD4GS_cache.json')"
      ],
      "execution_count": null,
      "outputs": []
    },
    {
      "cell_type": "code",
      "metadata": {
        "id": "-1_1pZr9AOZS"
      },
      "source": [
        "#Fetching information from helper database\n",
        "vi3 = sheets.get('1dYaQqMVPEbJuBwHC-nPbu-2NPIcaqwJf8-MqiZswmU4') # Helper Database\n",
        "vi3_form1_ws = vi3.sheets[0]\n",
        "\n",
        "entries = vi3_form1_ws.values()[1:]\n",
        "for i, e in enumerate(entries):\n",
        "  gdown.download('https://drive.google.com/uc?id='+e[1].split('id=')[1], f'entrie_{i}', quiet= i!=0)"
      ],
      "execution_count": null,
      "outputs": []
    },
    {
      "cell_type": "markdown",
      "metadata": {
        "id": "8fCrwVv8FGen"
      },
      "source": [
        "# Detect Vehicles and Get Features"
      ]
    },
    {
      "cell_type": "code",
      "metadata": {
        "id": "rB5YIZ2cCkPL"
      },
      "source": [
        "! git clone https://github.com/ProjectDetector/Train-VehicleDetection-model.git\n",
        "! cd Train-VehicleDetection-model/model.weights_/ && sh to_merge.sh\n",
        "\n",
        "!pip install intel-tensorflow > /dev/null"
      ],
      "execution_count": null,
      "outputs": []
    },
    {
      "cell_type": "code",
      "metadata": {
        "id": "5NrPwTnPGZQi"
      },
      "source": [
        "mymodel = __import__('Train-VehicleDetection-model.model').model\n",
        "model = mymodel.get_model()\n",
        "mymodel.load_weights(model, 'Train-VehicleDetection-model/model.weights')"
      ],
      "execution_count": null,
      "outputs": []
    },
    {
      "cell_type": "code",
      "metadata": {
        "id": "ECVmWzFUMAea"
      },
      "source": [
        "def get_boxes(path, th=0.01, toplot=False):\n",
        "  img = mymodel.mpimg.imread(path)\n",
        "  pre_precessed = mymodel.preprocess(img)\n",
        "  batch = mymodel.np.expand_dims(pre_precessed, axis=0)\n",
        "  batch_output = model.predict(batch)\n",
        "  boxes = mymodel.model_output_to_boxes(batch_output[0], threshold=th)\n",
        "  if toplot: plot(img, boxes)\n",
        "  return boxes"
      ],
      "execution_count": null,
      "outputs": []
    },
    {
      "cell_type": "markdown",
      "metadata": {
        "id": "NDXoZdqLw2Lh"
      },
      "source": [
        "##### For testing"
      ]
    },
    {
      "cell_type": "code",
      "metadata": {
        "id": "SawfN2D6xMCu"
      },
      "source": [
        "rm -rf Train-VehicleDetection-model/"
      ],
      "execution_count": null,
      "outputs": []
    },
    {
      "cell_type": "code",
      "metadata": {
        "id": "Tip674L-w1Xq"
      },
      "source": [
        "import importlib\n",
        "importlib.reload(mymodel)"
      ],
      "execution_count": null,
      "outputs": []
    },
    {
      "cell_type": "code",
      "metadata": {
        "id": "nItS3o8xz28h"
      },
      "source": [
        "print(get_boxes('Train-VehicleDetection-model/testimg.jpg', 0.01, 1))\n",
        "#print(get_boxes(f'entrie_{input()}', 0.01, 1))"
      ],
      "execution_count": null,
      "outputs": []
    },
    {
      "cell_type": "code",
      "metadata": {
        "id": "pK3d9HjSwK7u"
      },
      "source": [
        "def draw_boxes(boxes,im, crop_dim):\n",
        "    imgcv1 = im.copy()\n",
        "    [xmin, xmax] = crop_dim[0]\n",
        "    [ymin, ymax] = crop_dim[1]\n",
        "    \n",
        "    height, width, _ = imgcv1.shape\n",
        "    for b in boxes:\n",
        "        w = xmax - xmin\n",
        "        h = ymax - ymin\n",
        "\n",
        "        left  = int ((b.x - b.w/2.) * w) + xmin\n",
        "        right = int ((b.x + b.w/2.) * w) + xmin\n",
        "        top   = int ((b.y - b.h/2.) * h) + ymin\n",
        "        bot   = int ((b.y + b.h/2.) * h) + ymin\n",
        "\n",
        "        if left  < 0:\n",
        "            left = 0\n",
        "        if right > width - 1:\n",
        "            right = width - 1\n",
        "        if top < 0:\n",
        "            top = 0\n",
        "        if bot>height - 1: \n",
        "            bot = height - 1\n",
        "        \n",
        "        thick = 5 #int((height + width // 150))\n",
        "        \n",
        "        mymodel.cv2.rectangle(imgcv1, (left, top), (right, bot), (255,0,0), thick)\n",
        "\n",
        "    return imgcv1\n",
        "\n",
        "def plot(img, boxes):\n",
        "  final = draw_boxes(boxes, img, ((500,1280),(300,650)))\n",
        "\n",
        "  plt.rcParams['figure.figsize'] = (20, 10)\n",
        "  plt.subplot(1,3,1)\n",
        "  plt.imshow(img)\n",
        "  plt.axis('off')\n",
        "  plt.title(\"Original Image\")\n",
        "  plt.subplot(1,3,2)\n",
        "  plt.imshow(mymodel.normalize(mymodel.crop_and_resize(img)))\n",
        "  plt.axis('off')\n",
        "  plt.title(\"Pre Processed\")\n",
        "  plt.subplot(1,3,3)\n",
        "  plt.imshow(final)\n",
        "  plt.axis('off')\n",
        "  plt.title(\"With Boxes\")"
      ],
      "execution_count": null,
      "outputs": []
    }
  ]
}
